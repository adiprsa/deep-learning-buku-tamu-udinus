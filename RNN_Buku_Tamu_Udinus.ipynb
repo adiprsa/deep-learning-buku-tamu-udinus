{
  "nbformat": 4,
  "nbformat_minor": 0,
  "metadata": {
    "colab": {
      "name": "RNN Buku Tamu Udinus.ipynb",
      "provenance": [],
      "collapsed_sections": [],
      "include_colab_link": true
    },
    "kernelspec": {
      "name": "python3",
      "display_name": "Python 3"
    }
  },
  "cells": [
    {
      "cell_type": "markdown",
      "metadata": {
        "id": "view-in-github",
        "colab_type": "text"
      },
      "source": [
        "<a href=\"https://colab.research.google.com/github/adiprsa/deep-learning-buku-tamu-udinus/blob/master/RNN_Buku_Tamu_Udinus.ipynb\" target=\"_parent\"><img src=\"https://colab.research.google.com/assets/colab-badge.svg\" alt=\"Open In Colab\"/></a>"
      ]
    },
    {
      "cell_type": "markdown",
      "metadata": {
        "id": "kESWcax2Nl1N",
        "colab_type": "text"
      },
      "source": [
        "1. Menggunakan library pandas untuk membaca data dan menggunakan io untuk membaca data dari github dengan format raw. Pemrosesan menggunakan data yang displit 50:50"
      ]
    },
    {
      "cell_type": "code",
      "metadata": {
        "id": "bd_HYWt8Ls6b",
        "colab_type": "code",
        "colab": {}
      },
      "source": [
        "import pandas as pd \n",
        "import io\n",
        "import pickle\n",
        "\n",
        "\n",
        "with open('serialized.pkl', 'rb') as f:\n",
        "    data = pickle.load(f)\n",
        " \n",
        "#url = 'https://raw.githubusercontent.com/adiprsa/deep-learning-buku-tamu-udinus/master/Buku%20Tamu%20Udinus.csv'\n",
        "url_training = 'https://raw.githubusercontent.com/adiprsa/deep-learning-buku-tamu-udinus/master/Data%20Training%20setelah%20stemming.csv'\n",
        "url_testing = 'https://raw.githubusercontent.com/adiprsa/deep-learning-buku-tamu-udinus/master/Data%20Testing%20setelah%20stemming.csv'\n",
        "#data = pd.read_csv(url, skiprows=[0], usecols=[1,2], names=['Label', 'Kalimat'])\n",
        "data_training = pd.read_csv(url_training, skiprows=[0], usecols=[1,2], names=['Label', 'Kalimat'])\n",
        "data_testing = pd.read_csv(url_testing, skiprows=[0], usecols=[1,2], names=['Label', 'Kalimat'])"
      ],
      "execution_count": null,
      "outputs": []
    },
    {
      "cell_type": "markdown",
      "metadata": {
        "id": "0AHR1ZW14-RR",
        "colab_type": "text"
      },
      "source": [
        "2. Konversi dataframe ke list"
      ]
    },
    {
      "cell_type": "code",
      "metadata": {
        "id": "wIRjDuVN4kng",
        "colab_type": "code",
        "colab": {
          "base_uri": "https://localhost:8080/",
          "height": 54
        },
        "outputId": "6e85b38c-96e3-4fd4-ad24-7f683b5747b5"
      },
      "source": [
        "list_data_training = data_training['Kalimat'].to_list()\n",
        "list_data_testing = data_testing['Kalimat'].to_list()\n",
        "list_label_training = data_training['Label'].to_list()\n",
        "list_label_testing = data_testing['Label'].to_list()\n",
        "print(list_data_testing)"
      ],
      "execution_count": null,
      "outputs": [
        {
          "output_type": "stream",
          "text": [
            "['kak mau tanya kalau sudah lewat batas bayar daftar ulang apakah masih bisa bayar kak', 'selamat pagi nisrina lolos di pmdk 2 ya kami ingin memberitahukan bahwa registrasi untuk pmdk 2 masih dapat laku sampai maksimal tanggal 8 april jadi mohon segera untuk laku bayar dan berkas ke udinus ya terima kasih', 'mau tanya kak untuk jurus s1 manajemen uang per semester yg harus bayar berapa ya untuk tahun ini', 'selamat pagi untuk semua jurus bayar semester nya sama untuk biaya kuliah dapat cek di https nus ac id fees terima kasih', 'kak mau tanya kalau untuk kkl mahasiswa akuntansi s1 udinus biasa semester berapa ya kak terimakasih', 'selamat pagi ichza kkl di fakultas ekonomi dan bisnis baik itu jurus akuntansi maupun jurus manajemen biasa ada di semester ke 6 gantung bijak dari program studi masing-masing terima kasih', 'selamat pagi untuk informasi daftar pascasarjana dapat lalu link ikut http pps nus ac id terima kasih', 'kak mau tanya saya belum aktivasi akun trus re-aktivasi kok gagal itu gimana', 'selamat pagi abdul aktivasi akun daftar online ya aktif akun hanya beri waktu 124 jam jika lebih dari 124 jam maka akun sebut hangus harap daftar kembali terima kasih', 'kak mau tanya untuk tes masuk jalur regular nanti materi dari ajar apa aja ya mohon responnya terimakasih', 'selamat pagi putri untuk materi yang akan uji di test masuk jalur reguler adalah logika aritmatika dan bahasa inggris terima kasih', 'malam saya mau tanya ka untuk test yang jalur reguler apakah ada untuk test online nya terimakasih', 'selamat pagi untuk saat ini kami belum ada test online terima mahasiswa baru terimakasih', 'untuk soal2 yang uji pasa saat tes masuk apa aja ya min', 'halo kak saya mau tanya daftar jalur reguler buka kapan ya dan informasi tentang pmb jalur reguler kira rilis kapan ya di website ini terimakasih', 'selamat pagi putri daftar jalur reguler akan kami buka mulai bulan april untuk informasi kena syarat daftar jalur reguler akan kami posting cepat terima kasih', 'untuk tes masuk sendiri mata ajar atau materi apa yang nanti diujiankan ya kak biar bisa siap dari sekarang soal terima kasih', 'halo kak saya rizki lulus sma tahun 2017 apakah saya masih bisa daftar di udinus untuk angkat 2019 terima kasih', 'halo rizki untuk lulus 2017 dapat daftar lalu jalur reguler yang akan kami buka mulai bulan april nanti terima kasih', 'selamat pagi ka saya mau tanya saya lulus 2018 dan dari dulu saya ingin kuliah di udinus demi telah baik ekonomi saya asal dari keluarga kurang mampu sedang biaya kuliah di udinus sangat mahal tahun 2018 saya terima di unbraw snmptn bidikmisi namun saya keluar dan ingin putus kuliah di udinus yang saya mau tanya adalah apakah saya bisa ikut program beasiswa bagi maba bidikmisi kembali atau ada kah program beasiswa maba selain bidikmisi dan saat registrasi ulang ada potong 100 uspi bagi keluarga kurang mampu seperti saya', 'selamat pagi haryadi tentu daftar bidikmisi 2019 bagi lulus tahun 2018 adalah siswa yang bukan terima bidikmisi sehingga kamu tidak boleh ikut daftar bidikmisi kembali karena sudah pernah dapat program bidikmisi di tahun belum untuk potong uspi 100 tidak untuk di jalur pmdk selain gelombang 1 untuk itu sudah tidak ada potong 100 untuk daftar di tahap ini terima kasih', 'kak mau tanya web buat daftar lagi error atau gmna ya aku kan mau upload scanan rapot kok gak bisa situs ini tidak dapat jangkau itu gimana ya kak makasih', 'selamat sore mohon coba kembali untuk upload scan rapor nya mungkin ada sedikit salah jaring terima kasih', 'selamat sore saya mau tanya untuk daftar jalur pmdk apabila salah satu mapel ada yg nilai bawah 8 bukan rata apakah masih bisa', 'selamat pagi syarat daftar jalur pmdk adalah nilai rata dari semua mapel sehingga jika ada salah satu mapel yang nilai bawah 8 tidak akan jadi masalah asal rata seluruh tetap 8 jika rata seluruh bawah 8 silah serta surat rekomendasi dari guru bk terima kasih', 'apabila nilai rapot ada yang angka 79 7 hanya di semester 1 apakah tidak ada peluang untuk daftar di pmdk namun ada sertifikat dukung non akademik tingkat nasional dan internasional apakah pengaruh min', 'untuk nilai rapor bawah 8 silah minta surat rekomendasi dari guru bk dan serta pada saat kumpul formulir daftar terima kasih', 'permisi admin saya mau tanya apakah jalur pmdk bisa guna sertifikat non akademik seperti bidang seni tingkat nasional dan internasional atau untuk untuk nilai akademik saja terimakasih', 'selamat pagi armando sertifikat juara boleh dari bidang akademik maupun non akademik dari tingkat kota sampai tingkat internasional', 'mau tanya info s3 ilmu komputer di unidus apakah ada info web nya', 'ada link buat download brosur pmb 2019 gak ya', 'silah untuk brosur pmdk dapat didownload lalu ini https goo gl 6bc3en dan https goo gl hzzc2v terima kasih', 'kak untuk daftar mahasiswa baru jalur umum mulai kapan yah kak', 'selamat pagi iqbal daftar jalur umum atau reguler akan buka mulai 1 april 2019', 'kak mulai buka daftar mahasiswa baru untuk kelas sore kapan ya', 'untuk terima jalur pmdk pada saat registrasi sudah bisa pilih kelas pagi atau sore namun kelas sore hanya ada di fakultas ilmu komputer fakultas ilmu budaya dan fakultas sehat yang program studi jenjang s1 terima kasih', 'terima kasih bapak kami selalu usaha beri yang baik bagi mahasiswa kami', 'saya mau tanya ada kelas khusus karyawan atau tidak sama teknik informatika mata ajar seperti apa', 'selamat siang untuk kelas khusus karyawan hanya ada di fakultas sehat kuliah laksana hari jumat dan sabtu di teknik informatika cara umum yang akan ajar adalah coding untuk buat program untuk mata kuliah dapat cek lalu https nus ac id majors a11 bachelor-of-informatics terima kasih', 'apakah lulus smk jurus teknik kendara ringan tahun 2016 bisa daftar jurus manajemen s1 terima kasih', 'selamat siang untuk lulus tahun 2016 dapat daftar jurus manajemen s-1 di jalur reguler yang akan buka daftar mulai bulan april terima kasih', 'siang kak saya mau tanya apa ada kelas karyawan di udinus terimakasih', 'halo kak untuk kelas karyawan jumat-sabtu saat ini hanya ada di fakultas sehat saja', 'halo min maaf kalo oot bingung mau nanya mana kalo mau nanya tentang jadwal konsultasi mana ya soal ada jadwal yang bentrok', 'halo jadwal apa ya jadwal krs maksdnya kalo krs silah hubung tu fakultas masing-masing terima kasih', 'ijin tanya kak saya kan sudah semester 2 di jurus ti dan rencana mau pindah jurus di manajemen yang saya tanya apakah pindah jurus bisa di urus sekarang takut kalau nunggu semester 3 habis kelas dan soal pembayaranya bagaimana terimakasih mohon info', 'halo ilham pindah jurus gantung dari kaprodi masing-masing tiap jurus silah konsultasi ke dosen wali untuk lebih jelas terima kasih', 'kak saya mau tanya jurus sistem informasi itu ada kkn nya gak ya', 'selamat pagi jurus sistem informasi di udinus tidak ada giat kkn bagi mahasiswa namun kami ada kp kuliah praktek dan kkl kuliah kerja lapang terima kasih', 'selamat pagi bagaimana prosedur urus status mahasiswa yang mangkir terima kasih', 'selamat pagi untuk urus status mahasiswa yang mangkir silah datang ke biro akademik di gedung a lantai 1 terima kasih', 'hallo saya mau nanya apakah udinus buka kelas sabtu minggu terimaksih', 'selamat siang saya ingin tanya apakah benar ketika daftar ulang harus lampir skck', 'selamat pagi pada saat daftar ulang tidak ada tentu syarat bawa skck untuk syarat registrasi ulang dapat lihat di http pmb nus ac id prosedur-daftar-ulang terima kasih', 'permisi saya mau tanya saya telah terima di udinus lewat sekolah saya bk maksud tapi saya juga udah cek di pengumumanya tapi kok saya mau cetak surat umum itu pakai nomor daftar dan nomor telepon tetapi udah saya coba nomor saya dan nomor orang tua saya yang saya lampir pada form daftar tetapi gak bisa itu gimana ya mohon bantuanya', 'selamat pagi basmoro apakah km lihat umum lalu hp kadang browser hp tidak compatible coba pakai pc untuk mendownload surat umum untuk konfirmasi saja nomor hp orang tua km 920 silah coba kembali', 'malam kak saya mau tanya website buat lihat brpa biaya yg harus d bayarkn saat registrasi ulang jalur pmdk d mna ya kak', 'silah untuk surat umum dapat didownload lalu link ikut http apply nus ac id read umum terima kasih', 'malam kak bagaiman jika ingin tau berapa biaya yg harus di bayarkn untuk registrasi ulang pmdk 2 ya kak', 'selamat pagi tedi untuk biaya yang harus bayar pada saat registrasi pmdk 2 dapat lihat di surat umum yang dapat kamu download di website udinus dengan menginputkan nomer daftar dan nomer hp terima kasih']\n"
          ],
          "name": "stdout"
        }
      ]
    },
    {
      "cell_type": "markdown",
      "metadata": {
        "id": "qUGBpU965XRe",
        "colab_type": "text"
      },
      "source": [
        "3. tokenisasi pada tensorflow\n",
        "Pada proses ini membuat kamus vocab dengan angka berdasarkan data training. Penambahan penggunaan oov untuk data yang tidak ada pada data testing.\n"
      ]
    },
    {
      "cell_type": "code",
      "metadata": {
        "id": "Mbm-ON0k5PUY",
        "colab_type": "code",
        "colab": {}
      },
      "source": [
        "import tensorflow as tf\n",
        "from tensorflow import keras\n",
        "from tensorflow.keras.preprocessing.text import Tokenizer\n",
        "from tensorflow.keras.preprocessing.sequence import pad_sequences\n",
        "\n",
        "tokenizer = Tokenizer(oov_token = \"<OOV>\")\n",
        "tokenizer.fit_on_texts(list_data_training)\n",
        "word_index = tokenizer.word_index"
      ],
      "execution_count": null,
      "outputs": []
    },
    {
      "cell_type": "code",
      "metadata": {
        "id": "a9B9IVWg6Aig",
        "colab_type": "code",
        "colab": {
          "base_uri": "https://localhost:8080/",
          "height": 54
        },
        "outputId": "fbcefc2e-1704-4d99-b5ab-ea33c9393aac"
      },
      "source": [
        "print(word_index)"
      ],
      "execution_count": null,
      "outputs": [
        {
          "output_type": "stream",
          "text": [
            "{'untuk': 1, 'di': 2, 'daftar': 3, 'terima': 4, 'yang': 5, 'kak': 6, 'dan': 7, 'jalur': 8, 'mau': 9, 'kasih': 10, 'bisa': 11, 'selamat': 12, 'ya': 13, 'dapat': 14, 'saya': 15, 'tanya': 16, 'halo': 17, 'registrasi': 18, 'pagi': 19, 'udinus': 20, 'ada': 21, 'kelas': 22, 'ke': 23, 'sudah': 24, 'hari': 25, 'lalu': 26, 'jurus': 27, 'kami': 28, 'pmdk': 29, 'saat': 30, 'laku': 31, 'tidak': 32, 'nya': 33, 'mohon': 34, 'reguler': 35, 'bayar': 36, 'langsung': 37, 'siang': 38, 'kalo': 39, 'ikut': 40, 'sabtu': 41, 'dari': 42, 'kamu': 43, 'test': 44, 'akan': 45, 'min': 46, 'gimana': 47, 'terimakasih': 48, 'rekam': 49, 'medis': 50, 'surat': 51, 'bukti': 52, 'fakultas': 53, 'kan': 54, 'atau': 55, 'buka': 56, 'biaya': 57, 'baru': 58, 'pada': 59, 'ini': 60, 'apakah': 61, 'online': 62, 'sama': 63, 'maaf': 64, 'itu': 65, 'transfer': 66, 'tanggal': 67, 'cek': 68, 'mana': 69, 'adalah': 70, 'jika': 71, 'karyawan': 72, '1': 73, 'service': 74, 'aku': 75, 'lain': 76, 'upload': 77, 'nih': 78, 'dengan': 79, 'bawa': 80, 'http': 81, 'nus': 82, 'ac': 83, 'id': 84, 'ulang': 85, 'ambil': 86, 'saja': 87, 'kok': 88, 'terang': 89, 'info': 90, 'informasi': 91, 'program': 92, 'yg': 93, 'baik': 94, 'kuliah': 95, 'jumat': 96, 'pindah': 97, '2': 98, 'silah': 99, 'datang': 100, 'masuk': 101, 'punya': 102, 'akademik': 103, 'lebih': 104, 'malam': 105, 'anda': 106, 'foto': 107, 'fax': 108, 'sistem': 109, 'boleh': 110, 'minta': 111, 'tu': 112, 'soal': 113, 'apa': 114, 'nah': 115, 'm': 116, 'banking': 117, 'terus': 118, 'gak': 119, 'masih': 120, 'ga': 121, 'arti': 122, 'gelombang': 123, 'uji': 124, 's2': 125, 'putar': 126, 'harus': 127, 'pakai': 128, 'hanya': 129, 'sore': 130, 'cetak': 131, 'tulis': 132, 'padahal': 133, 'juga': 134, 'lulus': 135, 'bagi': 136, 'karena': 137, 'mulai': 138, 'belum': 139, 'gedung': 140, 'tetapi': 141, 'kalau': 142, 'sertifikat': 143, 'namun': 144, 'one': 145, 'day': 146, 'umum': 147, 'telah': 148, 'salah': 149, 'ka': 150, 'sehat': 151, 'matkul': 152, 'sebut': 153, 'via': 154, 'jadi': 155, 'guna': 156, 'bikin': 157, 'buat': 158, 'misal': 159, 'screenshoot': 160, 'print': 161, 'cara': 162, 'link': 163, 'pmb': 164, 'prosedur': 165, 'admin': 166, 'nggak': 167, 'smk': 168, 'pilih': 169, 'minat': 170, 'kira': 171, 'lagi': 172, 'tiap': 173, 'selalu': 174, 'cantum': 175, 'kembali': 176, 'lihat': 177, 'pasca': 178, 'sarjana': 179, 'pps': 180, 'syarat': 181, 'alat': 182, 'kena': 183, 'mahasiswa': 184, 'bebas': 185, 'rizki': 186, 'agama': 187, 'yah': 188, 'form': 189, 'jelas': 190, 'dalam': 191, 'dulu': 192, 'kerja': 193, 'semua': 194, 'prodi': 195, 'lantai': 196, '2019': 197, '2020': 198, 'bulan': 199, 'prestasi': 200, 'maksimal': 201, '100': 202, '3': 203, 'tahun': 204, 'tes': 205, 'aja': 206, 'putri': 207, 'oneday': 208, 'jadwal': 209, 'udah': 210, 'tinggal': 211, 'halaman': 212, 'rp': 213, '000': 214, 'sukses': 215, 'minggu': 216, 'khusus': 217, 'studi': 218, 'satu': 219, 'konsultasi': 220, 'dosen': 221, 'pegawai': 222, 'biro': 223, 'ganti': 224, 'sila': 225, 'ktm': 226, 'sementara': 227, 'hilang': 228, 'urus': 229, 'lama': 230, 'berapa': 231, 'alternatif': 232, 'karna': 233, 'sulit': 234, 'nemuin': 235, 'sini': 236, 'perlu': 237, 'misi': 238, 'nomor': 239, 'wa': 240, 'administrasi': 241, 'maksud': 242, 'biku': 243, 'rencana': 244, 'maba': 245, 'pake': 246, 'slip': 247, 'tuh': 248, 'bagai': 249, 'tunggu': 250, 'responnya': 251, 'jangan': 252, 'lupa': 253, 'berkas2': 254, 'tentu': 255, 'serah': 256, 'berkas': 257, 'layan': 258, 'sampai': 259, 'pukul': 260, '16': 261, '00': 262, 'wib': 263, 'tkj': 264, 'akuntasi': 265, 'manajemen': 266, 's1': 267, 'afifah': 268, 'sesuai': 269, 'gantung': 270, 'oleh': 271, 'udinua': 272, 'webnya': 273, 'ngga': 274, 'cumn': 275, '1c': 276, '2a': 277, 'gitu': 278, 'tahu': 279, 'baca': 280, 'jurusan2nya': 281, 'web': 282, 'tata': 283, 'tertib': 284, 'laksana': 285, 'seleksi': 286, 'sepert': 287, 'nanti': 288, 'komputer': 289, 'sehingga': 290, 'kartu': 291, 'bolpoint': 292, 'hitung': 293, 'sopan': 294, 'kk': 295, 'muhamad': 296, 'pas': 297, 'gada': 298, 'opsi': 299, 'kota': 300, 'prov': 301, 'kosong': 302, 'prntscr': 303, 'com': 304, 'nbdzff': 305, 'sedang': 306, 'data': 307, 'adik': 308, 'tp': 309, 'dr': 310, 'ips': 311, 'fisip': 312, '2015': 313, 'kulnya': 314, 'ptn': 315, 'pegang': 316, 'memang': 317, 'ajar': 318, 'dasar': 319, 'ingin': 320, 'serta': 321, 'ijazah': 322, 'sma': 323, 'sendiri': 324, 'sedia': 325, 'mah': 326, 'g': 327, 'klk': 328, 'skrg': 329, 'udh': 330, 'gabisa': 331, 'oktober': 332, 'september': 333, 'harga': 334, 'banyak': 335, 'lewat': 336, 'beasiswa': 337, 'yaitu': 338, 'rupa': 339, 'juara': 340, 'bidang': 341, 'maupun': 342, 'non': 343, 'tunjang': 344, 'nilai': 345, 'diikutsertakan': 346, 'paling': 347, 'tinggi': 348, 'tingkat': 349, 'potong': 350, 'uang': 351, 'hingga': 352, 'siswa': 353, 'sbelumnya': 354, 'akhir': 355, 'liht': 356, 'alamat': 357, 'url': 358, 'dateng': 359, 'tempat': 360, 'maka': 361, 'login': 362, 'email': 363, 'sm': 364, 'password': 365, 'benar': 366, 'nissa': 367, 'segala': 368, 'kendala': 369, 'kait': 370, 'tentang': 371, 'hubung': 372, 'narahubung': 373, 'yudit': 374, 'arum': 375, '085740664541': 376, 'kapan': 377, 'april': 378, 'isi': 379, 'brp': 380, 'no': 381, 'rekening': 382, 'tera': 383, 'scan': 384, 'pendafttran': 385, 'linknya': 386, 'moga': 387, 'siap': 388, 'saing': 389, 'dunia': 390, 'hidup': 391, 'masyarakat': 392, 'khusnul': 393, 'ti': 394, '5': 395, 'keluar': 396, 'mampu': 397, 'jodie': 398, 'masalah': 399, 'seperti': 400, 'ampu': 401, 'dahulu': 402, 'barangkali': 403, 'beliau': 404, 'milik': 405, 'solusi': 406, 'wali': 407, 'assalamualaikum': 408, 'bahasa': 409, 'jepang': 410, 'waalaikumsalam': 411, 'yascha': 412, 'sri': 413, 'arofah': 414, 'a': 415, 'update': 416, 'file': 417, 'unggah': 418, 'disha': 419, 'hasil': 420, 'verifikasi': 421, 'absen': 422, '3x': 423, 'suruh': 424, 'mbuat': 425, 'contoh': 426, 'kmaren': 427, 'ketrima': 428, 'akuntansi': 429, 'it': 430, 'ayu': 431, 'penuh': 432, 'quota': 433, 'lanjut': 434, 'calon': 435, 'bagaimana': 436, 'tapi': 437, 'batas': 438, 'trus': 439, 'besar': 440, '200': 441}\n"
          ],
          "name": "stdout"
        }
      ]
    },
    {
      "cell_type": "code",
      "metadata": {
        "id": "40L0Atba2Z3f",
        "colab_type": "code",
        "colab": {
          "base_uri": "https://localhost:8080/",
          "height": 1000
        },
        "outputId": "297f493c-a8e6-4578-a038-89deab20b896"
      },
      "source": [
        "sequences_training = tokenizer.texts_to_sequences(list_data_training)\n",
        "a = 0\n",
        "for x in sequences_training:\n",
        "    print(a)\n",
        "    print(x)\n",
        "    print(len(x))\n",
        "    a += 1"
      ],
      "execution_count": null,
      "outputs": [
        {
          "output_type": "stream",
          "text": [
            "0\n",
            "[18, 47, 62, 22, 233, 77, 31, 78, 53, 37, 155, 109, 234, 235, 236, 109, 237]\n",
            "17\n",
            "1\n",
            "[18, 2, 78, 53, 37, 4, 63, 15, 32, 38, 27, 110, 156, 33, 238, 157, 109, 5, 11]\n",
            "19\n",
            "2\n",
            "[239, 47, 16, 111, 112, 240, 241, 34, 158, 64, 113, 159, 17, 17, 114, 242]\n",
            "16\n",
            "3\n",
            "[13, 39, 65, 158, 62, 6, 243, 66, 244, 113, 34, 54, 115, 14]\n",
            "14\n",
            "4\n",
            "[18, 7, 16, 10, 17, 16, 245, 79, 10, 67, 37, 19, 246, 116, 40, 160, 247, 117, 118, 48, 14, 55, 112, 248, 37, 249, 250, 53, 40, 117, 118, 48, 16, 161, 53, 27, 162, 56, 48, 14, 251, 252, 49]\n",
            "43\n",
            "5\n",
            "[18, 2, 37, 19, 15, 32, 80, 163, 67, 27, 117, 118, 2, 53, 67, 12, 3, 161, 8, 3, 162, 253, 254, 81, 255, 19, 6, 25, 256, 3, 164, 41, 82, 165, 83, 84, 85, 166, 4, 86, 49]\n",
            "41\n",
            "6\n",
            "[167, 16, 10, 17, 2, 257, 258, 4, 86, 26, 42, 12, 168, 14]\n",
            "14\n",
            "7\n",
            "[13, 20, 26, 42, 21, 57, 259, 4, 8, 19, 260, 261, 262, 263, 264, 5, 11]\n",
            "17\n",
            "8\n",
            "[40, 43, 169, 28, 265, 119, 10, 87, 54, 266, 267, 268, 12, 120, 14]\n",
            "15\n",
            "9\n",
            "[18, 7, 269, 2, 170, 28, 270, 80, 171, 88, 33, 271, 272, 28, 31, 169]\n",
            "16\n",
            "10\n",
            "[18, 47, 10, 17, 172, 172, 121, 12, 4, 3, 273, 173, 168, 47, 114, 3, 274, 89, 275, 22, 90, 68, 276, 22, 9, 277, 278, 279, 35, 91, 47, 5, 11]\n",
            "33\n",
            "11\n",
            "[44, 280, 122, 281, 123, 174, 124, 175, 29, 176, 68, 4, 68, 125, 8, 68, 19, 35, 69, 177, 5, 11]\n",
            "22\n",
            "12\n",
            "[2, 58, 4, 126, 8, 282, 178, 3, 70, 14, 283, 91]\n",
            "12\n",
            "13\n",
            "[2, 92, 127, 93, 179, 180, 15, 69, 27, 181, 83, 84, 85, 49]\n",
            "14\n",
            "14\n",
            "[18, 7, 62, 22, 284, 285, 56, 182, 6, 128, 286, 31, 287, 288, 183, 6, 128, 81, 27, 129, 6, 94, 184]\n",
            "23\n",
            "15\n",
            "[13, 39, 45, 64, 5, 185, 59, 21, 289, 157, 290, 291, 183, 6, 81, 130, 292, 45, 8, 293, 6, 129, 2, 294, 2, 129, 6, 184, 71, 186, 8, 295, 5, 11]\n",
            "34\n",
            "16\n",
            "[13, 131, 296, 16, 297, 187, 4, 9, 36, 16, 10, 17, 66, 89, 298, 10, 132, 89, 188, 16, 133, 77, 189, 134, 3, 190, 299, 300, 188, 8, 301, 302, 34, 135, 303, 82, 304, 305, 306, 35, 191]\n",
            "41\n",
            "17\n",
            "[18, 187, 110, 29, 307, 192, 95, 35, 3, 69, 86, 177, 2, 308, 34, 49]\n",
            "16\n",
            "18\n",
            "[167, 309, 16, 22, 171, 3, 28, 50, 51, 310, 311, 312, 12, 33, 14, 27, 16, 136, 313, 314, 193, 315, 3, 316, 77, 12, 122, 160, 87, 50, 51, 114, 194, 317, 137, 50, 51]\n",
            "37\n",
            "19\n",
            "[13, 20, 2, 87, 28, 50, 51, 15, 43, 195, 28, 138, 318, 46, 29, 319, 43, 320, 72, 321, 87, 96, 173, 3, 28, 50, 51, 123, 60, 31, 4, 6, 322, 71, 323, 324, 2, 50, 51, 325, 29, 326, 23, 73, 3, 26, 97, 8, 42, 6, 139, 3, 39, 26, 5, 11]\n",
            "56\n",
            "20\n",
            "[7, 40, 327, 98, 28, 24, 196, 6, 24, 99, 12]\n",
            "11\n",
            "21\n",
            "[140, 19, 14, 2, 98, 28, 100, 101, 38, 24, 21, 3, 141, 328, 197, 74, 3, 137, 4, 49]\n",
            "20\n",
            "22\n",
            "[47, 10, 17, 329, 159, 4, 94, 30, 330, 331, 332, 14]\n",
            "12\n",
            "23\n",
            "[13, 20, 2, 9, 30, 198, 25, 33, 12, 138, 31, 61, 29, 25, 57, 9, 36, 46, 142, 29, 46, 57, 9, 30, 199, 139, 200, 333, 198, 156, 96, 34, 102, 3, 200, 334, 199, 5, 11]\n",
            "39\n",
            "24\n",
            "[7, 10, 17, 143, 16, 103, 144, 335, 336, 102, 21, 337, 9, 115, 8, 62, 12, 15, 338]\n",
            "19\n",
            "25\n",
            "[13, 20, 21, 103, 99, 9, 4, 339, 9, 30, 8, 9, 36, 9, 30, 340, 9, 201, 70, 144, 341, 95, 342, 104, 343, 344, 104, 15, 345, 346, 202, 144, 6, 15, 347, 71, 99, 43, 6, 348, 349, 350, 2, 9, 30, 46, 22, 351, 352, 141, 353, 203, 145, 9, 30, 130, 15, 41, 354, 23, 204, 8, 6, 25, 136, 74, 205, 355, 2, 31, 61, 9, 30, 25, 356, 145, 29, 59, 88, 57, 9, 36, 5, 11]\n",
            "84\n",
            "26\n",
            "[4, 126, 91, 357, 3, 70, 14]\n",
            "7\n",
            "27\n",
            "[13, 20, 92, 127, 4, 93, 179, 180, 21, 15, 178, 27, 358, 359, 41, 82, 181, 83, 84, 85, 5, 11]\n",
            "22\n",
            "28\n",
            "[18, 7, 10, 17, 55, 9, 36, 12, 41, 206, 64, 146, 147, 75, 116, 40, 41, 146, 147, 75, 12, 4, 155, 63, 193, 56, 38, 360, 24, 361, 207, 27, 2, 6, 146, 147, 75, 186, 170, 26, 115, 207, 55, 14, 7, 5, 11]\n",
            "47\n",
            "29\n",
            "[18, 208, 2, 110, 209, 75, 123, 44, 101, 38, 24, 21, 2, 32, 4, 116, 3, 26, 66, 135, 44, 12, 32, 45, 8, 38, 15, 52, 148, 5, 56, 33, 72, 44, 25, 4, 44, 111, 32, 45, 202, 204, 26, 149, 32, 4, 72, 105, 43, 66, 362, 44, 46, 41, 45, 64, 6, 25, 210, 60, 124, 4, 6, 44, 41, 5, 11]\n",
            "67\n",
            "30\n",
            "[7, 143, 174, 363, 150, 119, 48, 14, 134, 364, 365, 366, 34, 211, 367]\n",
            "15\n",
            "31\n",
            "[13, 20, 368, 369, 370, 371, 372, 4, 63, 15, 38, 373, 374, 29, 375, 376, 377, 5, 11]\n",
            "19\n",
            "32\n",
            "[18, 7, 206, 102, 9, 36, 378, 189, 5, 11]\n",
            "10\n",
            "33\n",
            "[13, 20, 4, 9, 36, 46, 139, 68, 74, 379, 2, 45, 34, 15, 41, 45, 64, 56, 45, 60, 31, 26, 4, 209, 75, 5, 11]\n",
            "27\n",
            "34\n",
            "[106, 151, 16, 10, 17, 55, 16, 25, 380, 190, 4, 212, 37, 381, 58, 6, 128, 16, 37, 151]\n",
            "20\n",
            "35\n",
            "[13, 20, 58, 4, 25, 176, 3, 213, 60, 31, 4, 58, 4, 2, 9, 30, 71, 214, 203, 215, 67, 24, 382, 383, 6, 25, 384, 53, 67, 3, 385, 27, 3, 78, 3, 213, 4, 5, 11]\n",
            "39\n",
            "36\n",
            "[2, 91, 386, 126, 70, 14, 387]\n",
            "7\n",
            "37\n",
            "[216, 119, 2, 21, 388, 175, 201, 8, 12, 132, 136, 95, 6, 389, 390, 3, 391, 194, 8, 192, 392, 393]\n",
            "22\n",
            "38\n",
            "[13, 39, 35, 65, 21, 33, 57, 23, 42, 8, 217, 29, 103, 23, 73, 3, 26, 97, 8, 42, 46, 142, 218, 2, 54, 152, 5, 11]\n",
            "28\n",
            "39\n",
            "[50, 51, 92, 12, 102, 23, 73, 151]\n",
            "8\n",
            "40\n",
            "[13, 20, 394, 2, 195, 93, 219, 3, 54, 152, 22, 23, 73, 3, 26, 97, 8, 42, 4, 15, 32, 3, 9, 36, 5, 11]\n",
            "26\n",
            "41\n",
            "[106, 7, 76, 43, 196, 395, 10, 17, 79, 153, 96, 76, 22, 396, 79, 40, 150, 220, 153, 154, 76, 10, 397, 12, 33, 14, 138, 150, 220, 43, 153, 154, 76, 120, 398]\n",
            "35\n",
            "42\n",
            "[13, 20, 399, 400, 401, 61, 95, 107, 221, 80, 222, 402, 105, 403, 404, 405, 406, 407, 94, 77, 56, 107, 135, 12, 221, 60, 222, 408, 107]\n",
            "29\n",
            "43\n",
            "[409, 7, 10, 17, 2, 28, 410, 411, 22, 23, 223, 120]\n",
            "12\n",
            "44\n",
            "[412, 413, 2, 23, 223, 33, 22, 22, 23, 106, 23, 20]\n",
            "12\n",
            "45\n",
            "[13, 39, 10, 17, 2, 112, 52, 90, 96, 70, 14, 7, 49]\n",
            "13\n",
            "46\n",
            "[13, 20, 414, 415, 52, 90, 154, 12, 107, 15, 3, 224, 104, 141, 416, 197, 74]\n",
            "17\n",
            "47\n",
            "[106, 7, 76, 10, 417, 108, 125, 6, 59, 89, 122, 12, 225, 14, 134, 133, 34, 418, 216, 3, 419]\n",
            "21\n",
            "48\n",
            "[18, 7, 420, 72, 44, 421, 78, 108, 145, 108, 140, 225, 226, 24, 113, 2, 422, 108, 6, 59]\n",
            "20\n",
            "49\n",
            "[65, 7, 72, 227, 228, 229, 163, 230, 48, 14]\n",
            "10\n",
            "50\n",
            "[18, 7, 208, 2, 230, 227, 228, 94, 229, 226, 24, 224, 104]\n",
            "13\n",
            "51\n",
            "[39, 7, 10, 17, 40, 423, 105, 43, 424, 55, 425, 426, 52, 35, 427, 52, 35, 34, 66, 48, 14, 7]\n",
            "22\n",
            "52\n",
            "[13, 39, 35, 65, 21, 33, 57, 23, 42, 8, 217, 29, 103, 23, 73, 3, 26, 97, 8, 42, 46, 142, 218, 2, 54, 152, 5, 11]\n",
            "28\n",
            "53\n",
            "[20, 7, 7, 428, 55, 16, 25, 4, 3, 21, 6, 124, 74, 211, 429, 3, 430, 212, 19, 88, 40, 16, 10, 98, 54, 431, 48, 7]\n",
            "28\n",
            "54\n",
            "[131, 7, 432, 2, 98, 93, 219, 111, 231, 182, 433, 8, 121, 22, 434, 100, 38, 24, 137, 19, 80, 81, 52, 90, 5, 2, 15, 69, 8, 15, 191, 105, 435, 166]\n",
            "34\n",
            "55\n",
            "[47, 10, 17, 143, 10, 19, 63, 436, 185, 59, 205, 61, 437]\n",
            "13\n",
            "56\n",
            "[18, 35, 65, 31, 61, 6, 15, 32, 63, 130, 4, 88, 2, 19, 100, 101, 38, 24, 21, 49]\n",
            "20\n",
            "57\n",
            "[16, 149, 3, 5, 3, 21, 60, 30, 24, 99, 438, 140, 32, 19, 62, 121, 12, 2, 19]\n",
            "19\n",
            "58\n",
            "[13, 39, 12, 100, 101, 24, 21, 2, 132, 52, 148, 59, 8, 92, 127, 19, 5, 11]\n",
            "18\n",
            "59\n",
            "[131, 7, 16, 10, 17, 79, 439, 37, 4, 86, 149, 148, 5, 232, 231, 14, 440, 2, 58, 4, 9, 125, 133, 232]\n",
            "24\n",
            "60\n",
            "[13, 20, 2, 210, 19, 15, 69, 27, 164, 61, 82, 165, 83, 84, 85, 8, 2, 58, 4, 9, 36, 71, 441, 214, 442, 215, 5, 11]\n",
            "28\n"
          ],
          "name": "stdout"
        }
      ]
    },
    {
      "cell_type": "code",
      "metadata": {
        "id": "J8ETevl3tMvL",
        "colab_type": "code",
        "colab": {}
      },
      "source": [
        "num_word = len(word_index)+1"
      ],
      "execution_count": null,
      "outputs": []
    },
    {
      "cell_type": "code",
      "metadata": {
        "id": "IXloJb7_uRZ-",
        "colab_type": "code",
        "colab": {}
      },
      "source": [
        "def konversi_label_ke_list(list_label):\n",
        "  temp = []\n",
        "  for x in list_label:\n",
        "    if x == 'administrasi':\n",
        "      val = 0\n",
        "    elif x == 'pendaftaran':\n",
        "      val = 1\n",
        "    elif x == 'komentar':\n",
        "      val = 2\n",
        "    elif x == 'kuliah':\n",
        "      val = 3\n",
        "    elif x == 'registrasi':\n",
        "      val = 4\n",
        "    temp.append(val)\n",
        "  return temp"
      ],
      "execution_count": null,
      "outputs": []
    },
    {
      "cell_type": "markdown",
      "metadata": {
        "id": "Uewr2IfsbkZo",
        "colab_type": "text"
      },
      "source": [
        "4. membuat sequence dari angka. Buat juga padding pada data training dan testing."
      ]
    },
    {
      "cell_type": "code",
      "metadata": {
        "id": "dKGSTqLV69a5",
        "colab_type": "code",
        "colab": {}
      },
      "source": [
        "import numpy as np\n",
        "np.random.seed(1337) # for reproducibility\n",
        "\n",
        "sequences_training = tokenizer.texts_to_sequences(list_data_training)\n",
        "#sequences_label_training = tokenizer.texts_to_sequences(list_label_training)\n",
        "sequences_testing = tokenizer.texts_to_sequences(list_data_testing)\n",
        "#sequences_label_testing = tokenizer.texts_to_sequences(list_label_testing)\n",
        "\n",
        "hitung_maxlen_training = max([len(i) for i in sequences_training])\n",
        "hitung_maxlen_testing = max([len(i) for i in sequences_testing])\n",
        "maxlen_tf = 0;\n",
        "if hitung_maxlen_training >= hitung_maxlen_testing:\n",
        "    maxlen_tf = hitung_maxlen_training\n",
        "else:\n",
        "    maxlen_tf = hitung_maxlen_testing\n",
        "\n",
        "padded_training = pad_sequences(sequences_training, maxlen=maxlen_tf, padding='post')\n",
        "padded_testing = pad_sequences(sequences_testing, maxlen=maxlen_tf, padding='post')\n",
        "\n",
        "train_x = np.asarray(padded_training)\n",
        "#train_y = np.asarray(sequences_label_training)\n",
        "train_y = np.asarray(konversi_label_ke_list(list_label_training))\n",
        "validation_x = np.asarray(padded_testing)\n",
        "#validation_y = np.asarray(sequences_label_testing)\n",
        "validation_y = np.asarray(konversi_label_ke_list(list_label_testing))"
      ],
      "execution_count": null,
      "outputs": []
    },
    {
      "cell_type": "code",
      "metadata": {
        "id": "7erNA-nm1GNZ",
        "colab_type": "code",
        "colab": {}
      },
      "source": [
        "panjang_kalimat = len(padded_training[0])"
      ],
      "execution_count": null,
      "outputs": []
    },
    {
      "cell_type": "markdown",
      "metadata": {
        "id": "rbFCJeTnnOfK",
        "colab_type": "text"
      },
      "source": [
        "Pada tensorflow, model membutuhkan sequential untuk training dan memberikan inferensi.\n",
        "![alt text](https://miro.medium.com/proxy/1*Gh5PS4R_A5drl5ebd_gNrg@2x.png)\n",
        "\n",
        "1. Embedding digunakan sebagai first layer/input layer. Terdiri dari berapa banyak vocab yang digunakan sebagai input, output dim, dan panjang karakter. Output dim bisa menjadi rekomendasi penelitian."
      ]
    },
    {
      "cell_type": "code",
      "metadata": {
        "id": "fWue7g-bsFZR",
        "colab_type": "code",
        "colab": {
          "base_uri": "https://localhost:8080/",
          "height": 260
        },
        "outputId": "243909b2-a58d-4eb9-8423-a39b77568e52"
      },
      "source": [
        "from tensorflow.keras import layers\n",
        "from tensorflow.keras.optimizers import Adam\n",
        "\n",
        "model = tf.keras.Sequential()\n",
        "# Add an Embedding layer expecting input vocab of size 1000, and\n",
        "# output embedding dimension of size 32.\n",
        "model.add(layers.Embedding(num_word, 64))\n",
        "\n",
        "# Add a RNN layer with 128 internal units.\n",
        "model.add(layers.SimpleRNN(10))\n",
        "\n",
        "# Add a Dense layer with 10 units.\n",
        "model.add(layers.Dense(10))\n",
        "model.summary()\n",
        "\n",
        "model.compile(optimizer='adam', loss='mse', metrics=['accuracy'])"
      ],
      "execution_count": null,
      "outputs": [
        {
          "output_type": "stream",
          "text": [
            "Model: \"sequential_3\"\n",
            "_________________________________________________________________\n",
            "Layer (type)                 Output Shape              Param #   \n",
            "=================================================================\n",
            "embedding_3 (Embedding)      (None, None, 64)          28352     \n",
            "_________________________________________________________________\n",
            "simple_rnn_3 (SimpleRNN)     (None, 10)                750       \n",
            "_________________________________________________________________\n",
            "dense_3 (Dense)              (None, 10)                110       \n",
            "=================================================================\n",
            "Total params: 29,212\n",
            "Trainable params: 29,212\n",
            "Non-trainable params: 0\n",
            "_________________________________________________________________\n"
          ],
          "name": "stdout"
        }
      ]
    },
    {
      "cell_type": "code",
      "metadata": {
        "id": "s2Lp23yRsRwN",
        "colab_type": "code",
        "colab": {
          "base_uri": "https://localhost:8080/",
          "height": 364
        },
        "outputId": "8fe11cfd-9f2d-4b20-b044-b68e0d045e8a"
      },
      "source": [
        "history = model.fit(train_x, train_y, epochs=10, validation_data=(validation_x, validation_y))"
      ],
      "execution_count": null,
      "outputs": [
        {
          "output_type": "stream",
          "text": [
            "Epoch 1/10\n",
            "2/2 [==============================] - 0s 129ms/step - loss: 2.3127 - accuracy: 0.5082 - val_loss: 2.3294 - val_accuracy: 0.4833\n",
            "Epoch 2/10\n",
            "2/2 [==============================] - 0s 21ms/step - loss: 2.2926 - accuracy: 0.5082 - val_loss: 2.3054 - val_accuracy: 0.4833\n",
            "Epoch 3/10\n",
            "2/2 [==============================] - 0s 19ms/step - loss: 2.2666 - accuracy: 0.5082 - val_loss: 2.2825 - val_accuracy: 0.4833\n",
            "Epoch 4/10\n",
            "2/2 [==============================] - 0s 22ms/step - loss: 2.2470 - accuracy: 0.5082 - val_loss: 2.2599 - val_accuracy: 0.5000\n",
            "Epoch 5/10\n",
            "2/2 [==============================] - 0s 23ms/step - loss: 2.2229 - accuracy: 0.5082 - val_loss: 2.2383 - val_accuracy: 0.5000\n",
            "Epoch 6/10\n",
            "2/2 [==============================] - 0s 20ms/step - loss: 2.2029 - accuracy: 0.5082 - val_loss: 2.2172 - val_accuracy: 0.5000\n",
            "Epoch 7/10\n",
            "2/2 [==============================] - 0s 20ms/step - loss: 2.1820 - accuracy: 0.4918 - val_loss: 2.1969 - val_accuracy: 0.5000\n",
            "Epoch 8/10\n",
            "2/2 [==============================] - 0s 25ms/step - loss: 2.1627 - accuracy: 0.4918 - val_loss: 2.1771 - val_accuracy: 0.5000\n",
            "Epoch 9/10\n",
            "2/2 [==============================] - 0s 20ms/step - loss: 2.1449 - accuracy: 0.4918 - val_loss: 2.1578 - val_accuracy: 0.5000\n",
            "Epoch 10/10\n",
            "2/2 [==============================] - 0s 20ms/step - loss: 2.1269 - accuracy: 0.4918 - val_loss: 2.1391 - val_accuracy: 0.5000\n"
          ],
          "name": "stdout"
        }
      ]
    }
  ]
}